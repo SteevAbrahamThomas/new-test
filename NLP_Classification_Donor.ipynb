{
  "nbformat": 4,
  "nbformat_minor": 0,
  "metadata": {
    "colab": {
      "provenance": [],
      "authorship_tag": "ABX9TyPBCKCT/azykUn3a4GmDafE",
      "include_colab_link": true
    },
    "kernelspec": {
      "name": "python3",
      "display_name": "Python 3"
    },
    "language_info": {
      "name": "python"
    }
  },
  "cells": [
    {
      "cell_type": "markdown",
      "metadata": {
        "id": "view-in-github",
        "colab_type": "text"
      },
      "source": [
        "<a href=\"https://colab.research.google.com/github/SteevAbrahamThomas/new-test/blob/main/NLP_Classification_Donor.ipynb\" target=\"_parent\"><img src=\"https://colab.research.google.com/assets/colab-badge.svg\" alt=\"Open In Colab\"/></a>"
      ]
    },
    {
      "cell_type": "markdown",
      "source": [
        "## 1. Data Exploration & Preparation"
      ],
      "metadata": {
        "id": "aladAh_vHUlR"
      }
    },
    {
      "cell_type": "code",
      "execution_count": 17,
      "metadata": {
        "id": "VY_-pY4kfYkn"
      },
      "outputs": [],
      "source": [
        "import pandas as pd\n",
        "import numpy as np\n",
        "import re\n",
        "import nltk\n",
        "from nltk.corpus import stopwords\n",
        "from nltk.stem import WordNetLemmatizer\n",
        "from sklearn.feature_extraction.text import TfidfVectorizer\n",
        "from gensim.models import Word2Vec\n",
        "from sklearn.model_selection import train_test_split\n",
        "from sklearn.linear_model import LogisticRegression\n",
        "from sklearn.metrics import classification_report, confusion_matrix\n",
        "import tensorflow as tf\n",
        "from tensorflow.keras import layers, Model, Input"
      ]
    },
    {
      "cell_type": "code",
      "source": [
        "df = pd.read_csv(\"donor.csv\")\n",
        "print(\"Shape:\", df.shape)\n",
        "df.head()"
      ],
      "metadata": {
        "colab": {
          "base_uri": "https://localhost:8080/",
          "height": 487
        },
        "id": "c-qOeYXEPMVB",
        "outputId": "472237f3-4fa3-4075-c3f3-5f99222b7c6c"
      },
      "execution_count": 18,
      "outputs": [
        {
          "output_type": "stream",
          "name": "stdout",
          "text": [
            "Shape: (109248, 14)\n"
          ]
        },
        {
          "output_type": "execute_result",
          "data": {
            "text/plain": [
              "        id teacher_prefix school_state project_grade_category  \\\n",
              "0  p253737            mrs           in          grades_prek_2   \n",
              "1  p258326             mr           fl             grades_6_8   \n",
              "2  p182444             ms           az             grades_6_8   \n",
              "3  p246581            mrs           ky          grades_prek_2   \n",
              "4  p104768            mrs           tx          grades_prek_2   \n",
              "\n",
              "       project_subject_categories project_subject_subcategories  \\\n",
              "0               literacy_language                  esl_literacy   \n",
              "1    history_civics_health_sports  civics_government_teamsports   \n",
              "2                   health_sports    health_wellness_teamsports   \n",
              "3  literacy_language_math_science          literacy_mathematics   \n",
              "4                    math_science                   mathematics   \n",
              "\n",
              "   teacher_number_of_previously_posted_projects  project_is_approved   price  \\\n",
              "0                                             0                    0  154.60   \n",
              "1                                             7                    1  299.00   \n",
              "2                                             1                    0  516.85   \n",
              "3                                             4                    1  232.90   \n",
              "4                                             1                    1   67.98   \n",
              "\n",
              "   quantity                                   cleaned_titles  \\\n",
              "0        23        educational support english learners home   \n",
              "1         1                 wanted projector hungry learners   \n",
              "2        22  soccer equipment awesome middle school students   \n",
              "3         4                           techie kindergarteners   \n",
              "4         4                           interactive math tools   \n",
              "\n",
              "                                      cleaned_essays  \\\n",
              "0  students english learners working english seco...   \n",
              "1  students arrive school eager learn polite gene...   \n",
              "2  true champions not always ones win guts mia ha...   \n",
              "3  work unique school filled esl english second l...   \n",
              "4  second grade classroom next year made around 2...   \n",
              "\n",
              "                                     cleaned_summary  isdigit_summary  \n",
              "0  students_need_opportunities_practice_beginning...                0  \n",
              "1  students_need_projector_help_viewing_education...                0  \n",
              "2  students_need_shine_guards_athletic_socks_socc...                0  \n",
              "3  students_need_engage_reading_math_way_inspire_...                0  \n",
              "4  students_need_hands_practice_mathematics_fun_p...                0  "
            ],
            "text/html": [
              "\n",
              "  <div id=\"df-0c9b0131-ded9-478b-b52e-22456e3c71db\" class=\"colab-df-container\">\n",
              "    <div>\n",
              "<style scoped>\n",
              "    .dataframe tbody tr th:only-of-type {\n",
              "        vertical-align: middle;\n",
              "    }\n",
              "\n",
              "    .dataframe tbody tr th {\n",
              "        vertical-align: top;\n",
              "    }\n",
              "\n",
              "    .dataframe thead th {\n",
              "        text-align: right;\n",
              "    }\n",
              "</style>\n",
              "<table border=\"1\" class=\"dataframe\">\n",
              "  <thead>\n",
              "    <tr style=\"text-align: right;\">\n",
              "      <th></th>\n",
              "      <th>id</th>\n",
              "      <th>teacher_prefix</th>\n",
              "      <th>school_state</th>\n",
              "      <th>project_grade_category</th>\n",
              "      <th>project_subject_categories</th>\n",
              "      <th>project_subject_subcategories</th>\n",
              "      <th>teacher_number_of_previously_posted_projects</th>\n",
              "      <th>project_is_approved</th>\n",
              "      <th>price</th>\n",
              "      <th>quantity</th>\n",
              "      <th>cleaned_titles</th>\n",
              "      <th>cleaned_essays</th>\n",
              "      <th>cleaned_summary</th>\n",
              "      <th>isdigit_summary</th>\n",
              "    </tr>\n",
              "  </thead>\n",
              "  <tbody>\n",
              "    <tr>\n",
              "      <th>0</th>\n",
              "      <td>p253737</td>\n",
              "      <td>mrs</td>\n",
              "      <td>in</td>\n",
              "      <td>grades_prek_2</td>\n",
              "      <td>literacy_language</td>\n",
              "      <td>esl_literacy</td>\n",
              "      <td>0</td>\n",
              "      <td>0</td>\n",
              "      <td>154.60</td>\n",
              "      <td>23</td>\n",
              "      <td>educational support english learners home</td>\n",
              "      <td>students english learners working english seco...</td>\n",
              "      <td>students_need_opportunities_practice_beginning...</td>\n",
              "      <td>0</td>\n",
              "    </tr>\n",
              "    <tr>\n",
              "      <th>1</th>\n",
              "      <td>p258326</td>\n",
              "      <td>mr</td>\n",
              "      <td>fl</td>\n",
              "      <td>grades_6_8</td>\n",
              "      <td>history_civics_health_sports</td>\n",
              "      <td>civics_government_teamsports</td>\n",
              "      <td>7</td>\n",
              "      <td>1</td>\n",
              "      <td>299.00</td>\n",
              "      <td>1</td>\n",
              "      <td>wanted projector hungry learners</td>\n",
              "      <td>students arrive school eager learn polite gene...</td>\n",
              "      <td>students_need_projector_help_viewing_education...</td>\n",
              "      <td>0</td>\n",
              "    </tr>\n",
              "    <tr>\n",
              "      <th>2</th>\n",
              "      <td>p182444</td>\n",
              "      <td>ms</td>\n",
              "      <td>az</td>\n",
              "      <td>grades_6_8</td>\n",
              "      <td>health_sports</td>\n",
              "      <td>health_wellness_teamsports</td>\n",
              "      <td>1</td>\n",
              "      <td>0</td>\n",
              "      <td>516.85</td>\n",
              "      <td>22</td>\n",
              "      <td>soccer equipment awesome middle school students</td>\n",
              "      <td>true champions not always ones win guts mia ha...</td>\n",
              "      <td>students_need_shine_guards_athletic_socks_socc...</td>\n",
              "      <td>0</td>\n",
              "    </tr>\n",
              "    <tr>\n",
              "      <th>3</th>\n",
              "      <td>p246581</td>\n",
              "      <td>mrs</td>\n",
              "      <td>ky</td>\n",
              "      <td>grades_prek_2</td>\n",
              "      <td>literacy_language_math_science</td>\n",
              "      <td>literacy_mathematics</td>\n",
              "      <td>4</td>\n",
              "      <td>1</td>\n",
              "      <td>232.90</td>\n",
              "      <td>4</td>\n",
              "      <td>techie kindergarteners</td>\n",
              "      <td>work unique school filled esl english second l...</td>\n",
              "      <td>students_need_engage_reading_math_way_inspire_...</td>\n",
              "      <td>0</td>\n",
              "    </tr>\n",
              "    <tr>\n",
              "      <th>4</th>\n",
              "      <td>p104768</td>\n",
              "      <td>mrs</td>\n",
              "      <td>tx</td>\n",
              "      <td>grades_prek_2</td>\n",
              "      <td>math_science</td>\n",
              "      <td>mathematics</td>\n",
              "      <td>1</td>\n",
              "      <td>1</td>\n",
              "      <td>67.98</td>\n",
              "      <td>4</td>\n",
              "      <td>interactive math tools</td>\n",
              "      <td>second grade classroom next year made around 2...</td>\n",
              "      <td>students_need_hands_practice_mathematics_fun_p...</td>\n",
              "      <td>0</td>\n",
              "    </tr>\n",
              "  </tbody>\n",
              "</table>\n",
              "</div>\n",
              "    <div class=\"colab-df-buttons\">\n",
              "\n",
              "  <div class=\"colab-df-container\">\n",
              "    <button class=\"colab-df-convert\" onclick=\"convertToInteractive('df-0c9b0131-ded9-478b-b52e-22456e3c71db')\"\n",
              "            title=\"Convert this dataframe to an interactive table.\"\n",
              "            style=\"display:none;\">\n",
              "\n",
              "  <svg xmlns=\"http://www.w3.org/2000/svg\" height=\"24px\" viewBox=\"0 -960 960 960\">\n",
              "    <path d=\"M120-120v-720h720v720H120Zm60-500h600v-160H180v160Zm220 220h160v-160H400v160Zm0 220h160v-160H400v160ZM180-400h160v-160H180v160Zm440 0h160v-160H620v160ZM180-180h160v-160H180v160Zm440 0h160v-160H620v160Z\"/>\n",
              "  </svg>\n",
              "    </button>\n",
              "\n",
              "  <style>\n",
              "    .colab-df-container {\n",
              "      display:flex;\n",
              "      gap: 12px;\n",
              "    }\n",
              "\n",
              "    .colab-df-convert {\n",
              "      background-color: #E8F0FE;\n",
              "      border: none;\n",
              "      border-radius: 50%;\n",
              "      cursor: pointer;\n",
              "      display: none;\n",
              "      fill: #1967D2;\n",
              "      height: 32px;\n",
              "      padding: 0 0 0 0;\n",
              "      width: 32px;\n",
              "    }\n",
              "\n",
              "    .colab-df-convert:hover {\n",
              "      background-color: #E2EBFA;\n",
              "      box-shadow: 0px 1px 2px rgba(60, 64, 67, 0.3), 0px 1px 3px 1px rgba(60, 64, 67, 0.15);\n",
              "      fill: #174EA6;\n",
              "    }\n",
              "\n",
              "    .colab-df-buttons div {\n",
              "      margin-bottom: 4px;\n",
              "    }\n",
              "\n",
              "    [theme=dark] .colab-df-convert {\n",
              "      background-color: #3B4455;\n",
              "      fill: #D2E3FC;\n",
              "    }\n",
              "\n",
              "    [theme=dark] .colab-df-convert:hover {\n",
              "      background-color: #434B5C;\n",
              "      box-shadow: 0px 1px 3px 1px rgba(0, 0, 0, 0.15);\n",
              "      filter: drop-shadow(0px 1px 2px rgba(0, 0, 0, 0.3));\n",
              "      fill: #FFFFFF;\n",
              "    }\n",
              "  </style>\n",
              "\n",
              "    <script>\n",
              "      const buttonEl =\n",
              "        document.querySelector('#df-0c9b0131-ded9-478b-b52e-22456e3c71db button.colab-df-convert');\n",
              "      buttonEl.style.display =\n",
              "        google.colab.kernel.accessAllowed ? 'block' : 'none';\n",
              "\n",
              "      async function convertToInteractive(key) {\n",
              "        const element = document.querySelector('#df-0c9b0131-ded9-478b-b52e-22456e3c71db');\n",
              "        const dataTable =\n",
              "          await google.colab.kernel.invokeFunction('convertToInteractive',\n",
              "                                                    [key], {});\n",
              "        if (!dataTable) return;\n",
              "\n",
              "        const docLinkHtml = 'Like what you see? Visit the ' +\n",
              "          '<a target=\"_blank\" href=https://colab.research.google.com/notebooks/data_table.ipynb>data table notebook</a>'\n",
              "          + ' to learn more about interactive tables.';\n",
              "        element.innerHTML = '';\n",
              "        dataTable['output_type'] = 'display_data';\n",
              "        await google.colab.output.renderOutput(dataTable, element);\n",
              "        const docLink = document.createElement('div');\n",
              "        docLink.innerHTML = docLinkHtml;\n",
              "        element.appendChild(docLink);\n",
              "      }\n",
              "    </script>\n",
              "  </div>\n",
              "\n",
              "\n",
              "    <div id=\"df-956c40dc-d6dd-42be-8ac4-a58b2d3ae54a\">\n",
              "      <button class=\"colab-df-quickchart\" onclick=\"quickchart('df-956c40dc-d6dd-42be-8ac4-a58b2d3ae54a')\"\n",
              "                title=\"Suggest charts\"\n",
              "                style=\"display:none;\">\n",
              "\n",
              "<svg xmlns=\"http://www.w3.org/2000/svg\" height=\"24px\"viewBox=\"0 0 24 24\"\n",
              "     width=\"24px\">\n",
              "    <g>\n",
              "        <path d=\"M19 3H5c-1.1 0-2 .9-2 2v14c0 1.1.9 2 2 2h14c1.1 0 2-.9 2-2V5c0-1.1-.9-2-2-2zM9 17H7v-7h2v7zm4 0h-2V7h2v10zm4 0h-2v-4h2v4z\"/>\n",
              "    </g>\n",
              "</svg>\n",
              "      </button>\n",
              "\n",
              "<style>\n",
              "  .colab-df-quickchart {\n",
              "      --bg-color: #E8F0FE;\n",
              "      --fill-color: #1967D2;\n",
              "      --hover-bg-color: #E2EBFA;\n",
              "      --hover-fill-color: #174EA6;\n",
              "      --disabled-fill-color: #AAA;\n",
              "      --disabled-bg-color: #DDD;\n",
              "  }\n",
              "\n",
              "  [theme=dark] .colab-df-quickchart {\n",
              "      --bg-color: #3B4455;\n",
              "      --fill-color: #D2E3FC;\n",
              "      --hover-bg-color: #434B5C;\n",
              "      --hover-fill-color: #FFFFFF;\n",
              "      --disabled-bg-color: #3B4455;\n",
              "      --disabled-fill-color: #666;\n",
              "  }\n",
              "\n",
              "  .colab-df-quickchart {\n",
              "    background-color: var(--bg-color);\n",
              "    border: none;\n",
              "    border-radius: 50%;\n",
              "    cursor: pointer;\n",
              "    display: none;\n",
              "    fill: var(--fill-color);\n",
              "    height: 32px;\n",
              "    padding: 0;\n",
              "    width: 32px;\n",
              "  }\n",
              "\n",
              "  .colab-df-quickchart:hover {\n",
              "    background-color: var(--hover-bg-color);\n",
              "    box-shadow: 0 1px 2px rgba(60, 64, 67, 0.3), 0 1px 3px 1px rgba(60, 64, 67, 0.15);\n",
              "    fill: var(--button-hover-fill-color);\n",
              "  }\n",
              "\n",
              "  .colab-df-quickchart-complete:disabled,\n",
              "  .colab-df-quickchart-complete:disabled:hover {\n",
              "    background-color: var(--disabled-bg-color);\n",
              "    fill: var(--disabled-fill-color);\n",
              "    box-shadow: none;\n",
              "  }\n",
              "\n",
              "  .colab-df-spinner {\n",
              "    border: 2px solid var(--fill-color);\n",
              "    border-color: transparent;\n",
              "    border-bottom-color: var(--fill-color);\n",
              "    animation:\n",
              "      spin 1s steps(1) infinite;\n",
              "  }\n",
              "\n",
              "  @keyframes spin {\n",
              "    0% {\n",
              "      border-color: transparent;\n",
              "      border-bottom-color: var(--fill-color);\n",
              "      border-left-color: var(--fill-color);\n",
              "    }\n",
              "    20% {\n",
              "      border-color: transparent;\n",
              "      border-left-color: var(--fill-color);\n",
              "      border-top-color: var(--fill-color);\n",
              "    }\n",
              "    30% {\n",
              "      border-color: transparent;\n",
              "      border-left-color: var(--fill-color);\n",
              "      border-top-color: var(--fill-color);\n",
              "      border-right-color: var(--fill-color);\n",
              "    }\n",
              "    40% {\n",
              "      border-color: transparent;\n",
              "      border-right-color: var(--fill-color);\n",
              "      border-top-color: var(--fill-color);\n",
              "    }\n",
              "    60% {\n",
              "      border-color: transparent;\n",
              "      border-right-color: var(--fill-color);\n",
              "    }\n",
              "    80% {\n",
              "      border-color: transparent;\n",
              "      border-right-color: var(--fill-color);\n",
              "      border-bottom-color: var(--fill-color);\n",
              "    }\n",
              "    90% {\n",
              "      border-color: transparent;\n",
              "      border-bottom-color: var(--fill-color);\n",
              "    }\n",
              "  }\n",
              "</style>\n",
              "\n",
              "      <script>\n",
              "        async function quickchart(key) {\n",
              "          const quickchartButtonEl =\n",
              "            document.querySelector('#' + key + ' button');\n",
              "          quickchartButtonEl.disabled = true;  // To prevent multiple clicks.\n",
              "          quickchartButtonEl.classList.add('colab-df-spinner');\n",
              "          try {\n",
              "            const charts = await google.colab.kernel.invokeFunction(\n",
              "                'suggestCharts', [key], {});\n",
              "          } catch (error) {\n",
              "            console.error('Error during call to suggestCharts:', error);\n",
              "          }\n",
              "          quickchartButtonEl.classList.remove('colab-df-spinner');\n",
              "          quickchartButtonEl.classList.add('colab-df-quickchart-complete');\n",
              "        }\n",
              "        (() => {\n",
              "          let quickchartButtonEl =\n",
              "            document.querySelector('#df-956c40dc-d6dd-42be-8ac4-a58b2d3ae54a button');\n",
              "          quickchartButtonEl.style.display =\n",
              "            google.colab.kernel.accessAllowed ? 'block' : 'none';\n",
              "        })();\n",
              "      </script>\n",
              "    </div>\n",
              "\n",
              "    </div>\n",
              "  </div>\n"
            ],
            "application/vnd.google.colaboratory.intrinsic+json": {
              "type": "dataframe",
              "variable_name": "df"
            }
          },
          "metadata": {},
          "execution_count": 18
        }
      ]
    },
    {
      "cell_type": "markdown",
      "source": [],
      "metadata": {
        "id": "alS1XGa9PL5x"
      }
    },
    {
      "cell_type": "code",
      "source": [
        "print(df.info())\n",
        "print(df.describe(include='all'))"
      ],
      "metadata": {
        "colab": {
          "base_uri": "https://localhost:8080/"
        },
        "id": "EjSO1Z5bfnvx",
        "outputId": "f7d75e4f-49b3-4c98-8f5c-b9e2fdacbbe1"
      },
      "execution_count": 19,
      "outputs": [
        {
          "output_type": "stream",
          "name": "stdout",
          "text": [
            "<class 'pandas.core.frame.DataFrame'>\n",
            "RangeIndex: 109248 entries, 0 to 109247\n",
            "Data columns (total 14 columns):\n",
            " #   Column                                        Non-Null Count   Dtype  \n",
            "---  ------                                        --------------   -----  \n",
            " 0   id                                            109248 non-null  object \n",
            " 1   teacher_prefix                                109248 non-null  object \n",
            " 2   school_state                                  109248 non-null  object \n",
            " 3   project_grade_category                        109248 non-null  object \n",
            " 4   project_subject_categories                    109248 non-null  object \n",
            " 5   project_subject_subcategories                 109248 non-null  object \n",
            " 6   teacher_number_of_previously_posted_projects  109248 non-null  int64  \n",
            " 7   project_is_approved                           109248 non-null  int64  \n",
            " 8   price                                         109248 non-null  float64\n",
            " 9   quantity                                      109248 non-null  int64  \n",
            " 10  cleaned_titles                                109205 non-null  object \n",
            " 11  cleaned_essays                                109248 non-null  object \n",
            " 12  cleaned_summary                               109248 non-null  object \n",
            " 13  isdigit_summary                               109248 non-null  int64  \n",
            "dtypes: float64(1), int64(4), object(9)\n",
            "memory usage: 11.7+ MB\n",
            "None\n",
            "             id teacher_prefix school_state project_grade_category  \\\n",
            "count    109248         109248       109248                 109248   \n",
            "unique   109248              5           51                      4   \n",
            "top     p253737            mrs           ca          grades_prek_2   \n",
            "freq          1          57272        15388                  44225   \n",
            "mean        NaN            NaN          NaN                    NaN   \n",
            "std         NaN            NaN          NaN                    NaN   \n",
            "min         NaN            NaN          NaN                    NaN   \n",
            "25%         NaN            NaN          NaN                    NaN   \n",
            "50%         NaN            NaN          NaN                    NaN   \n",
            "75%         NaN            NaN          NaN                    NaN   \n",
            "max         NaN            NaN          NaN                    NaN   \n",
            "\n",
            "       project_subject_categories project_subject_subcategories  \\\n",
            "count                      109248                        109248   \n",
            "unique                         51                           401   \n",
            "top             literacy_language                      literacy   \n",
            "freq                        23655                          9486   \n",
            "mean                          NaN                           NaN   \n",
            "std                           NaN                           NaN   \n",
            "min                           NaN                           NaN   \n",
            "25%                           NaN                           NaN   \n",
            "50%                           NaN                           NaN   \n",
            "75%                           NaN                           NaN   \n",
            "max                           NaN                           NaN   \n",
            "\n",
            "        teacher_number_of_previously_posted_projects  project_is_approved  \\\n",
            "count                                  109248.000000        109248.000000   \n",
            "unique                                           NaN                  NaN   \n",
            "top                                              NaN                  NaN   \n",
            "freq                                             NaN                  NaN   \n",
            "mean                                       11.153165             0.848583   \n",
            "std                                        27.777154             0.358456   \n",
            "min                                         0.000000             0.000000   \n",
            "25%                                         0.000000             1.000000   \n",
            "50%                                         2.000000             1.000000   \n",
            "75%                                         9.000000             1.000000   \n",
            "max                                       451.000000             1.000000   \n",
            "\n",
            "                price       quantity cleaned_titles  \\\n",
            "count   109248.000000  109248.000000         109205   \n",
            "unique            NaN            NaN          91442   \n",
            "top               NaN            NaN    wiggle work   \n",
            "freq              NaN            NaN            401   \n",
            "mean       298.119343      16.965610            NaN   \n",
            "std        367.498030      26.182942            NaN   \n",
            "min          0.660000       1.000000            NaN   \n",
            "25%        104.310000       4.000000            NaN   \n",
            "50%        206.220000       9.000000            NaN   \n",
            "75%        379.000000      21.000000            NaN   \n",
            "max       9999.000000     930.000000            NaN   \n",
            "\n",
            "                                           cleaned_essays  \\\n",
            "count                                              109248   \n",
            "unique                                             108314   \n",
            "top     students come diverse backgrounds blue collar ...   \n",
            "freq                                                   10   \n",
            "mean                                                  NaN   \n",
            "std                                                   NaN   \n",
            "min                                                   NaN   \n",
            "25%                                                   NaN   \n",
            "50%                                                   NaN   \n",
            "75%                                                   NaN   \n",
            "max                                                   NaN   \n",
            "\n",
            "                                          cleaned_summary  isdigit_summary  \n",
            "count                                              109248    109248.000000  \n",
            "unique                                             107885              NaN  \n",
            "top     students_need_electronic_tablets_things_make_s...              NaN  \n",
            "freq                                                   53              NaN  \n",
            "mean                                                  NaN         0.144222  \n",
            "std                                                   NaN         0.351317  \n",
            "min                                                   NaN         0.000000  \n",
            "25%                                                   NaN         0.000000  \n",
            "50%                                                   NaN         0.000000  \n",
            "75%                                                   NaN         0.000000  \n",
            "max                                                   NaN         1.000000  \n"
          ]
        }
      ]
    },
    {
      "cell_type": "markdown",
      "source": [
        "## 2. NLP processing Pipeline"
      ],
      "metadata": {
        "id": "XQryPEQ3HDay"
      }
    },
    {
      "cell_type": "code",
      "source": [
        "nltk.download('stopwords')\n",
        "nltk.download('wordnet')\n",
        "\n",
        "stop_words = set(stopwords.words('english'))\n",
        "lemmatizer = WordNetLemmatizer()\n",
        "\n",
        "def clean_text(text):\n",
        "    if pd.isnull(text):\n",
        "        return \"\"\n",
        "    text = text.lower()\n",
        "    text = re.sub(r\"<.*?>\", \" \", text)\n",
        "    text = re.sub(r\"[^a-zA-Z]\", \" \", text)\n",
        "    tokens = text.split()\n",
        "    tokens = [lemmatizer.lemmatize(word) for word in tokens if word not in stop_words]\n",
        "    return \" \".join(tokens)\n",
        "\n",
        "df['clean_text'] = df['cleaned_essays'].astype(str).apply(clean_text)\n",
        "df[['cleaned_essays','clean_text']].head()"
      ],
      "metadata": {
        "colab": {
          "base_uri": "https://localhost:8080/",
          "height": 279
        },
        "id": "YtfKJR1wf4HW",
        "outputId": "42d83587-34be-4ac9-bcd0-f7178bc758dd"
      },
      "execution_count": 20,
      "outputs": [
        {
          "output_type": "stream",
          "name": "stderr",
          "text": [
            "[nltk_data] Downloading package stopwords to /root/nltk_data...\n",
            "[nltk_data]   Package stopwords is already up-to-date!\n",
            "[nltk_data] Downloading package wordnet to /root/nltk_data...\n",
            "[nltk_data]   Package wordnet is already up-to-date!\n"
          ]
        },
        {
          "output_type": "execute_result",
          "data": {
            "text/plain": [
              "                                      cleaned_essays  \\\n",
              "0  students english learners working english seco...   \n",
              "1  students arrive school eager learn polite gene...   \n",
              "2  true champions not always ones win guts mia ha...   \n",
              "3  work unique school filled esl english second l...   \n",
              "4  second grade classroom next year made around 2...   \n",
              "\n",
              "                                          clean_text  \n",
              "0  student english learner working english second...  \n",
              "1  student arrive school eager learn polite gener...  \n",
              "2  true champion always one win gut mia hamm quot...  \n",
              "3  work unique school filled esl english second l...  \n",
              "4  second grade classroom next year made around k...  "
            ],
            "text/html": [
              "\n",
              "  <div id=\"df-43e3336d-183c-42b1-b68d-ff05df059b50\" class=\"colab-df-container\">\n",
              "    <div>\n",
              "<style scoped>\n",
              "    .dataframe tbody tr th:only-of-type {\n",
              "        vertical-align: middle;\n",
              "    }\n",
              "\n",
              "    .dataframe tbody tr th {\n",
              "        vertical-align: top;\n",
              "    }\n",
              "\n",
              "    .dataframe thead th {\n",
              "        text-align: right;\n",
              "    }\n",
              "</style>\n",
              "<table border=\"1\" class=\"dataframe\">\n",
              "  <thead>\n",
              "    <tr style=\"text-align: right;\">\n",
              "      <th></th>\n",
              "      <th>cleaned_essays</th>\n",
              "      <th>clean_text</th>\n",
              "    </tr>\n",
              "  </thead>\n",
              "  <tbody>\n",
              "    <tr>\n",
              "      <th>0</th>\n",
              "      <td>students english learners working english seco...</td>\n",
              "      <td>student english learner working english second...</td>\n",
              "    </tr>\n",
              "    <tr>\n",
              "      <th>1</th>\n",
              "      <td>students arrive school eager learn polite gene...</td>\n",
              "      <td>student arrive school eager learn polite gener...</td>\n",
              "    </tr>\n",
              "    <tr>\n",
              "      <th>2</th>\n",
              "      <td>true champions not always ones win guts mia ha...</td>\n",
              "      <td>true champion always one win gut mia hamm quot...</td>\n",
              "    </tr>\n",
              "    <tr>\n",
              "      <th>3</th>\n",
              "      <td>work unique school filled esl english second l...</td>\n",
              "      <td>work unique school filled esl english second l...</td>\n",
              "    </tr>\n",
              "    <tr>\n",
              "      <th>4</th>\n",
              "      <td>second grade classroom next year made around 2...</td>\n",
              "      <td>second grade classroom next year made around k...</td>\n",
              "    </tr>\n",
              "  </tbody>\n",
              "</table>\n",
              "</div>\n",
              "    <div class=\"colab-df-buttons\">\n",
              "\n",
              "  <div class=\"colab-df-container\">\n",
              "    <button class=\"colab-df-convert\" onclick=\"convertToInteractive('df-43e3336d-183c-42b1-b68d-ff05df059b50')\"\n",
              "            title=\"Convert this dataframe to an interactive table.\"\n",
              "            style=\"display:none;\">\n",
              "\n",
              "  <svg xmlns=\"http://www.w3.org/2000/svg\" height=\"24px\" viewBox=\"0 -960 960 960\">\n",
              "    <path d=\"M120-120v-720h720v720H120Zm60-500h600v-160H180v160Zm220 220h160v-160H400v160Zm0 220h160v-160H400v160ZM180-400h160v-160H180v160Zm440 0h160v-160H620v160ZM180-180h160v-160H180v160Zm440 0h160v-160H620v160Z\"/>\n",
              "  </svg>\n",
              "    </button>\n",
              "\n",
              "  <style>\n",
              "    .colab-df-container {\n",
              "      display:flex;\n",
              "      gap: 12px;\n",
              "    }\n",
              "\n",
              "    .colab-df-convert {\n",
              "      background-color: #E8F0FE;\n",
              "      border: none;\n",
              "      border-radius: 50%;\n",
              "      cursor: pointer;\n",
              "      display: none;\n",
              "      fill: #1967D2;\n",
              "      height: 32px;\n",
              "      padding: 0 0 0 0;\n",
              "      width: 32px;\n",
              "    }\n",
              "\n",
              "    .colab-df-convert:hover {\n",
              "      background-color: #E2EBFA;\n",
              "      box-shadow: 0px 1px 2px rgba(60, 64, 67, 0.3), 0px 1px 3px 1px rgba(60, 64, 67, 0.15);\n",
              "      fill: #174EA6;\n",
              "    }\n",
              "\n",
              "    .colab-df-buttons div {\n",
              "      margin-bottom: 4px;\n",
              "    }\n",
              "\n",
              "    [theme=dark] .colab-df-convert {\n",
              "      background-color: #3B4455;\n",
              "      fill: #D2E3FC;\n",
              "    }\n",
              "\n",
              "    [theme=dark] .colab-df-convert:hover {\n",
              "      background-color: #434B5C;\n",
              "      box-shadow: 0px 1px 3px 1px rgba(0, 0, 0, 0.15);\n",
              "      filter: drop-shadow(0px 1px 2px rgba(0, 0, 0, 0.3));\n",
              "      fill: #FFFFFF;\n",
              "    }\n",
              "  </style>\n",
              "\n",
              "    <script>\n",
              "      const buttonEl =\n",
              "        document.querySelector('#df-43e3336d-183c-42b1-b68d-ff05df059b50 button.colab-df-convert');\n",
              "      buttonEl.style.display =\n",
              "        google.colab.kernel.accessAllowed ? 'block' : 'none';\n",
              "\n",
              "      async function convertToInteractive(key) {\n",
              "        const element = document.querySelector('#df-43e3336d-183c-42b1-b68d-ff05df059b50');\n",
              "        const dataTable =\n",
              "          await google.colab.kernel.invokeFunction('convertToInteractive',\n",
              "                                                    [key], {});\n",
              "        if (!dataTable) return;\n",
              "\n",
              "        const docLinkHtml = 'Like what you see? Visit the ' +\n",
              "          '<a target=\"_blank\" href=https://colab.research.google.com/notebooks/data_table.ipynb>data table notebook</a>'\n",
              "          + ' to learn more about interactive tables.';\n",
              "        element.innerHTML = '';\n",
              "        dataTable['output_type'] = 'display_data';\n",
              "        await google.colab.output.renderOutput(dataTable, element);\n",
              "        const docLink = document.createElement('div');\n",
              "        docLink.innerHTML = docLinkHtml;\n",
              "        element.appendChild(docLink);\n",
              "      }\n",
              "    </script>\n",
              "  </div>\n",
              "\n",
              "\n",
              "    <div id=\"df-233129b4-5038-463b-9942-c8ea08e95e76\">\n",
              "      <button class=\"colab-df-quickchart\" onclick=\"quickchart('df-233129b4-5038-463b-9942-c8ea08e95e76')\"\n",
              "                title=\"Suggest charts\"\n",
              "                style=\"display:none;\">\n",
              "\n",
              "<svg xmlns=\"http://www.w3.org/2000/svg\" height=\"24px\"viewBox=\"0 0 24 24\"\n",
              "     width=\"24px\">\n",
              "    <g>\n",
              "        <path d=\"M19 3H5c-1.1 0-2 .9-2 2v14c0 1.1.9 2 2 2h14c1.1 0 2-.9 2-2V5c0-1.1-.9-2-2-2zM9 17H7v-7h2v7zm4 0h-2V7h2v10zm4 0h-2v-4h2v4z\"/>\n",
              "    </g>\n",
              "</svg>\n",
              "      </button>\n",
              "\n",
              "<style>\n",
              "  .colab-df-quickchart {\n",
              "      --bg-color: #E8F0FE;\n",
              "      --fill-color: #1967D2;\n",
              "      --hover-bg-color: #E2EBFA;\n",
              "      --hover-fill-color: #174EA6;\n",
              "      --disabled-fill-color: #AAA;\n",
              "      --disabled-bg-color: #DDD;\n",
              "  }\n",
              "\n",
              "  [theme=dark] .colab-df-quickchart {\n",
              "      --bg-color: #3B4455;\n",
              "      --fill-color: #D2E3FC;\n",
              "      --hover-bg-color: #434B5C;\n",
              "      --hover-fill-color: #FFFFFF;\n",
              "      --disabled-bg-color: #3B4455;\n",
              "      --disabled-fill-color: #666;\n",
              "  }\n",
              "\n",
              "  .colab-df-quickchart {\n",
              "    background-color: var(--bg-color);\n",
              "    border: none;\n",
              "    border-radius: 50%;\n",
              "    cursor: pointer;\n",
              "    display: none;\n",
              "    fill: var(--fill-color);\n",
              "    height: 32px;\n",
              "    padding: 0;\n",
              "    width: 32px;\n",
              "  }\n",
              "\n",
              "  .colab-df-quickchart:hover {\n",
              "    background-color: var(--hover-bg-color);\n",
              "    box-shadow: 0 1px 2px rgba(60, 64, 67, 0.3), 0 1px 3px 1px rgba(60, 64, 67, 0.15);\n",
              "    fill: var(--button-hover-fill-color);\n",
              "  }\n",
              "\n",
              "  .colab-df-quickchart-complete:disabled,\n",
              "  .colab-df-quickchart-complete:disabled:hover {\n",
              "    background-color: var(--disabled-bg-color);\n",
              "    fill: var(--disabled-fill-color);\n",
              "    box-shadow: none;\n",
              "  }\n",
              "\n",
              "  .colab-df-spinner {\n",
              "    border: 2px solid var(--fill-color);\n",
              "    border-color: transparent;\n",
              "    border-bottom-color: var(--fill-color);\n",
              "    animation:\n",
              "      spin 1s steps(1) infinite;\n",
              "  }\n",
              "\n",
              "  @keyframes spin {\n",
              "    0% {\n",
              "      border-color: transparent;\n",
              "      border-bottom-color: var(--fill-color);\n",
              "      border-left-color: var(--fill-color);\n",
              "    }\n",
              "    20% {\n",
              "      border-color: transparent;\n",
              "      border-left-color: var(--fill-color);\n",
              "      border-top-color: var(--fill-color);\n",
              "    }\n",
              "    30% {\n",
              "      border-color: transparent;\n",
              "      border-left-color: var(--fill-color);\n",
              "      border-top-color: var(--fill-color);\n",
              "      border-right-color: var(--fill-color);\n",
              "    }\n",
              "    40% {\n",
              "      border-color: transparent;\n",
              "      border-right-color: var(--fill-color);\n",
              "      border-top-color: var(--fill-color);\n",
              "    }\n",
              "    60% {\n",
              "      border-color: transparent;\n",
              "      border-right-color: var(--fill-color);\n",
              "    }\n",
              "    80% {\n",
              "      border-color: transparent;\n",
              "      border-right-color: var(--fill-color);\n",
              "      border-bottom-color: var(--fill-color);\n",
              "    }\n",
              "    90% {\n",
              "      border-color: transparent;\n",
              "      border-bottom-color: var(--fill-color);\n",
              "    }\n",
              "  }\n",
              "</style>\n",
              "\n",
              "      <script>\n",
              "        async function quickchart(key) {\n",
              "          const quickchartButtonEl =\n",
              "            document.querySelector('#' + key + ' button');\n",
              "          quickchartButtonEl.disabled = true;  // To prevent multiple clicks.\n",
              "          quickchartButtonEl.classList.add('colab-df-spinner');\n",
              "          try {\n",
              "            const charts = await google.colab.kernel.invokeFunction(\n",
              "                'suggestCharts', [key], {});\n",
              "          } catch (error) {\n",
              "            console.error('Error during call to suggestCharts:', error);\n",
              "          }\n",
              "          quickchartButtonEl.classList.remove('colab-df-spinner');\n",
              "          quickchartButtonEl.classList.add('colab-df-quickchart-complete');\n",
              "        }\n",
              "        (() => {\n",
              "          let quickchartButtonEl =\n",
              "            document.querySelector('#df-233129b4-5038-463b-9942-c8ea08e95e76 button');\n",
              "          quickchartButtonEl.style.display =\n",
              "            google.colab.kernel.accessAllowed ? 'block' : 'none';\n",
              "        })();\n",
              "      </script>\n",
              "    </div>\n",
              "\n",
              "    </div>\n",
              "  </div>\n"
            ],
            "application/vnd.google.colaboratory.intrinsic+json": {
              "type": "dataframe",
              "summary": "{\n  \"name\": \"df[['cleaned_essays','clean_text']]\",\n  \"rows\": 5,\n  \"fields\": [\n    {\n      \"column\": \"cleaned_essays\",\n      \"properties\": {\n        \"dtype\": \"string\",\n        \"num_unique_values\": 5,\n        \"samples\": [\n          \"students arrive school eager learn polite generous strive best know education succeed life help improve lives school focuses families low incomes tries give student education deserve not much students use materials given best projector need school crucial academic improvement students technology continues grow many resources internet teachers use growth students however school limited resources particularly technology without disadvantage one things could really help classrooms projector projector not crucial instruction also growth students projector show presentations documentaries photos historical land sites math problems much projector make teaching learning easier also targeting different types learners classrooms auditory visual kinesthetic etc\",\n          \"second grade classroom next year made around 25 kids many coming spanish speaking families many receive free reduced priced lunch inquisitive students often not many educational resources home need kids curious world excited learn ready find education offer excited teach push meet exceed expectations many students math subject not pertain life subject stresses believe making math not fun also important lives typical part day calendar math section time talk calendar weather properties day calendar math journals allow student accountable learning help paying attention involved time students also expected know count 1 120 understand numbers charts important resource different math tasks also provide simple task early finishers ie fill charts done assignment\",\n          \"true champions not always ones win guts mia hamm quote best describes students cholla middle school approach playing sports especially girls boys soccer teams teams made 7th 8th grade students not opportunity play organized sport due family financial difficulties teach title one middle school urban neighborhood 74 students qualify free reduced lunch many come activity sport opportunity poor homes students love participate sports learn new skills apart team atmosphere school lacks funding meet students needs concerned lack exposure not prepare participating sports teams high school end school year goal provide students opportunity learn variety soccer skills positive qualities person actively participates team students campus come school knowing face uphill battle comes participating organized sports players would thrive field confidence appropriate soccer equipment play soccer best abilities students experience helpful person part team teaches positive supportive encouraging others students using soccer equipment practice games daily basis learn practice necessary skills develop strong soccer team experience create opportunity students learn part team positive contribution teammates students get opportunity learn practice variety soccer skills use skills game access type experience nearly impossible without soccer equipment students players utilize practice games\"\n        ],\n        \"semantic_type\": \"\",\n        \"description\": \"\"\n      }\n    },\n    {\n      \"column\": \"clean_text\",\n      \"properties\": {\n        \"dtype\": \"string\",\n        \"num_unique_values\": 5,\n        \"samples\": [\n          \"student arrive school eager learn polite generous strive best know education succeed life help improve life school focus family low income try give student education deserve much student use material given best projector need school crucial academic improvement student technology continues grow many resource internet teacher use growth student however school limited resource particularly technology without disadvantage one thing could really help classroom projector projector crucial instruction also growth student projector show presentation documentary photo historical land site math problem much projector make teaching learning easier also targeting different type learner classroom auditory visual kinesthetic etc\",\n          \"second grade classroom next year made around kid many coming spanish speaking family many receive free reduced priced lunch inquisitive student often many educational resource home need kid curious world excited learn ready find education offer excited teach push meet exceed expectation many student math subject pertain life subject stress believe making math fun also important life typical part day calendar math section time talk calendar weather property day calendar math journal allow student accountable learning help paying attention involved time student also expected know count understand number chart important resource different math task also provide simple task early finisher ie fill chart done assignment\",\n          \"true champion always one win gut mia hamm quote best describes student cholla middle school approach playing sport especially girl boy soccer team team made th th grade student opportunity play organized sport due family financial difficulty teach title one middle school urban neighborhood student qualify free reduced lunch many come activity sport opportunity poor home student love participate sport learn new skill apart team atmosphere school lack funding meet student need concerned lack exposure prepare participating sport team high school end school year goal provide student opportunity learn variety soccer skill positive quality person actively participates team student campus come school knowing face uphill battle come participating organized sport player would thrive field confidence appropriate soccer equipment play soccer best ability student experience helpful person part team teach positive supportive encouraging others student using soccer equipment practice game daily basis learn practice necessary skill develop strong soccer team experience create opportunity student learn part team positive contribution teammate student get opportunity learn practice variety soccer skill use skill game access type experience nearly impossible without soccer equipment student player utilize practice game\"\n        ],\n        \"semantic_type\": \"\",\n        \"description\": \"\"\n      }\n    }\n  ]\n}"
            }
          },
          "metadata": {},
          "execution_count": 20
        }
      ]
    },
    {
      "cell_type": "markdown",
      "source": [
        "## 3. Embedding Approaches (TF-IDF & Word2Vec)"
      ],
      "metadata": {
        "id": "IcrOJZiTHsPl"
      }
    },
    {
      "cell_type": "code",
      "source": [
        "tfidf = TfidfVectorizer(max_features=5000, ngram_range=(1,2))\n",
        "X_tfidf = tfidf.fit_transform(df['clean_text'])\n",
        "print(\"TF-IDF Shape:\", X_tfidf.shape)"
      ],
      "metadata": {
        "colab": {
          "base_uri": "https://localhost:8080/"
        },
        "id": "Tsj4eqt-HK6A",
        "outputId": "5fe457da-e489-443b-c529-b25090587baf"
      },
      "execution_count": 21,
      "outputs": [
        {
          "output_type": "stream",
          "name": "stdout",
          "text": [
            "TF-IDF Shape: (109248, 5000)\n"
          ]
        }
      ]
    },
    {
      "cell_type": "code",
      "source": [
        "sentences = [row.split() for row in df['clean_text']]\n",
        "w2v_model = Word2Vec(sentences, vector_size=100, window=5, min_count=2, workers=4)\n",
        "\n",
        "def doc_vector(doc):\n",
        "    vec = [w2v_model.wv[w] for w in doc.split() if w in w2v_model.wv]\n",
        "    return np.mean(vec, axis=0) if len(vec) > 0 else np.zeros(100)\n",
        "\n",
        "X_w2v = np.vstack(df['clean_text'].apply(doc_vector).values)\n",
        "print(\"Word2Vec Shape:\", X_w2v.shape)"
      ],
      "metadata": {
        "colab": {
          "base_uri": "https://localhost:8080/"
        },
        "id": "bZR10Ht-HCqy",
        "outputId": "b84a1a1d-25e0-4e8f-abed-a6ce9ce6fccc"
      },
      "execution_count": 22,
      "outputs": [
        {
          "output_type": "stream",
          "name": "stdout",
          "text": [
            "Word2Vec Shape: (109248, 100)\n"
          ]
        }
      ]
    },
    {
      "cell_type": "markdown",
      "source": [
        "## 4. Classical ML Models"
      ],
      "metadata": {
        "id": "uAbeVJtGIeV5"
      }
    },
    {
      "cell_type": "code",
      "source": [
        "y = df['project_is_approved']\n",
        "X_train, X_test, y_train, y_test = train_test_split(X_tfidf, y, test_size=0.2, random_state=42)\n",
        "\n",
        "clf = LogisticRegression(max_iter=500)\n",
        "clf.fit(X_train, y_train)\n",
        "y_pred = clf.predict(X_test)\n",
        "\n",
        "print(classification_report(y_test, y_pred))\n",
        "print(confusion_matrix(y_test, y_pred))"
      ],
      "metadata": {
        "colab": {
          "base_uri": "https://localhost:8080/"
        },
        "id": "IuRd_mIvIF8s",
        "outputId": "56880065-691b-4070-8a67-4c03dcd35d51"
      },
      "execution_count": 23,
      "outputs": [
        {
          "output_type": "stream",
          "name": "stdout",
          "text": [
            "              precision    recall  f1-score   support\n",
            "\n",
            "           0       0.58      0.05      0.10      3316\n",
            "           1       0.85      0.99      0.92     18534\n",
            "\n",
            "    accuracy                           0.85     21850\n",
            "   macro avg       0.72      0.52      0.51     21850\n",
            "weighted avg       0.81      0.85      0.79     21850\n",
            "\n",
            "[[  175  3141]\n",
            " [  125 18409]]\n"
          ]
        }
      ]
    },
    {
      "cell_type": "markdown",
      "source": [
        "## 5. Deep Learning Model (Functional API)"
      ],
      "metadata": {
        "id": "PYAlza59Im2F"
      }
    },
    {
      "cell_type": "code",
      "source": [
        "# split TF-IDF and Word2Vec\n",
        "X_train_tfidf, X_test_tfidf, y_train_dl, y_test_dl = train_test_split(X_tfidf, y, test_size=0.2, random_state=42)\n",
        "X_train_w2v, X_test_w2v = train_test_split(X_w2v, test_size=0.2, random_state=42)\n",
        "\n",
        "# TF-IDF branch\n",
        "input_tfidf = Input(shape=(X_train_tfidf.shape[1],), name='tfidf_input')\n",
        "x1 = layers.Dense(128, activation='relu')(input_tfidf)\n",
        "\n",
        "# Word2Vec branch\n",
        "input_w2v = Input(shape=(X_train_w2v.shape[1],), name='w2v_input')\n",
        "x2 = layers.Dense(128, activation='relu')(input_w2v)\n",
        "\n",
        "# merge\n",
        "merged = layers.concatenate([x1, x2])\n",
        "dense = layers.Dense(64, activation='relu')(merged)\n",
        "output = layers.Dense(1, activation='sigmoid')(dense)\n",
        "\n",
        "model = Model(inputs=[input_tfidf, input_w2v], outputs=output)\n",
        "model.compile(optimizer='adam', loss='binary_crossentropy', metrics=['accuracy'])\n",
        "model.summary()"
      ],
      "metadata": {
        "colab": {
          "base_uri": "https://localhost:8080/",
          "height": 401
        },
        "id": "lorBrGwwIjdj",
        "outputId": "d1d223e9-cef6-4f4b-c206-3c150b0b888b"
      },
      "execution_count": 24,
      "outputs": [
        {
          "output_type": "display_data",
          "data": {
            "text/plain": [
              "\u001b[1mModel: \"functional_1\"\u001b[0m\n"
            ],
            "text/html": [
              "<pre style=\"white-space:pre;overflow-x:auto;line-height:normal;font-family:Menlo,'DejaVu Sans Mono',consolas,'Courier New',monospace\"><span style=\"font-weight: bold\">Model: \"functional_1\"</span>\n",
              "</pre>\n"
            ]
          },
          "metadata": {}
        },
        {
          "output_type": "display_data",
          "data": {
            "text/plain": [
              "┏━━━━━━━━━━━━━━━━━━━━━┳━━━━━━━━━━━━━━━━━━━┳━━━━━━━━━━━━┳━━━━━━━━━━━━━━━━━━━┓\n",
              "┃\u001b[1m \u001b[0m\u001b[1mLayer (type)       \u001b[0m\u001b[1m \u001b[0m┃\u001b[1m \u001b[0m\u001b[1mOutput Shape     \u001b[0m\u001b[1m \u001b[0m┃\u001b[1m \u001b[0m\u001b[1m   Param #\u001b[0m\u001b[1m \u001b[0m┃\u001b[1m \u001b[0m\u001b[1mConnected to     \u001b[0m\u001b[1m \u001b[0m┃\n",
              "┡━━━━━━━━━━━━━━━━━━━━━╇━━━━━━━━━━━━━━━━━━━╇━━━━━━━━━━━━╇━━━━━━━━━━━━━━━━━━━┩\n",
              "│ tfidf_input         │ (\u001b[38;5;45mNone\u001b[0m, \u001b[38;5;34m5000\u001b[0m)      │          \u001b[38;5;34m0\u001b[0m │ -                 │\n",
              "│ (\u001b[38;5;33mInputLayer\u001b[0m)        │                   │            │                   │\n",
              "├─────────────────────┼───────────────────┼────────────┼───────────────────┤\n",
              "│ w2v_input           │ (\u001b[38;5;45mNone\u001b[0m, \u001b[38;5;34m100\u001b[0m)       │          \u001b[38;5;34m0\u001b[0m │ -                 │\n",
              "│ (\u001b[38;5;33mInputLayer\u001b[0m)        │                   │            │                   │\n",
              "├─────────────────────┼───────────────────┼────────────┼───────────────────┤\n",
              "│ dense_4 (\u001b[38;5;33mDense\u001b[0m)     │ (\u001b[38;5;45mNone\u001b[0m, \u001b[38;5;34m128\u001b[0m)       │    \u001b[38;5;34m640,128\u001b[0m │ tfidf_input[\u001b[38;5;34m0\u001b[0m][\u001b[38;5;34m0\u001b[0m] │\n",
              "├─────────────────────┼───────────────────┼────────────┼───────────────────┤\n",
              "│ dense_5 (\u001b[38;5;33mDense\u001b[0m)     │ (\u001b[38;5;45mNone\u001b[0m, \u001b[38;5;34m128\u001b[0m)       │     \u001b[38;5;34m12,928\u001b[0m │ w2v_input[\u001b[38;5;34m0\u001b[0m][\u001b[38;5;34m0\u001b[0m]   │\n",
              "├─────────────────────┼───────────────────┼────────────┼───────────────────┤\n",
              "│ concatenate_1       │ (\u001b[38;5;45mNone\u001b[0m, \u001b[38;5;34m256\u001b[0m)       │          \u001b[38;5;34m0\u001b[0m │ dense_4[\u001b[38;5;34m0\u001b[0m][\u001b[38;5;34m0\u001b[0m],    │\n",
              "│ (\u001b[38;5;33mConcatenate\u001b[0m)       │                   │            │ dense_5[\u001b[38;5;34m0\u001b[0m][\u001b[38;5;34m0\u001b[0m]     │\n",
              "├─────────────────────┼───────────────────┼────────────┼───────────────────┤\n",
              "│ dense_6 (\u001b[38;5;33mDense\u001b[0m)     │ (\u001b[38;5;45mNone\u001b[0m, \u001b[38;5;34m64\u001b[0m)        │     \u001b[38;5;34m16,448\u001b[0m │ concatenate_1[\u001b[38;5;34m0\u001b[0m]… │\n",
              "├─────────────────────┼───────────────────┼────────────┼───────────────────┤\n",
              "│ dense_7 (\u001b[38;5;33mDense\u001b[0m)     │ (\u001b[38;5;45mNone\u001b[0m, \u001b[38;5;34m1\u001b[0m)         │         \u001b[38;5;34m65\u001b[0m │ dense_6[\u001b[38;5;34m0\u001b[0m][\u001b[38;5;34m0\u001b[0m]     │\n",
              "└─────────────────────┴───────────────────┴────────────┴───────────────────┘\n"
            ],
            "text/html": [
              "<pre style=\"white-space:pre;overflow-x:auto;line-height:normal;font-family:Menlo,'DejaVu Sans Mono',consolas,'Courier New',monospace\">┏━━━━━━━━━━━━━━━━━━━━━┳━━━━━━━━━━━━━━━━━━━┳━━━━━━━━━━━━┳━━━━━━━━━━━━━━━━━━━┓\n",
              "┃<span style=\"font-weight: bold\"> Layer (type)        </span>┃<span style=\"font-weight: bold\"> Output Shape      </span>┃<span style=\"font-weight: bold\">    Param # </span>┃<span style=\"font-weight: bold\"> Connected to      </span>┃\n",
              "┡━━━━━━━━━━━━━━━━━━━━━╇━━━━━━━━━━━━━━━━━━━╇━━━━━━━━━━━━╇━━━━━━━━━━━━━━━━━━━┩\n",
              "│ tfidf_input         │ (<span style=\"color: #00d7ff; text-decoration-color: #00d7ff\">None</span>, <span style=\"color: #00af00; text-decoration-color: #00af00\">5000</span>)      │          <span style=\"color: #00af00; text-decoration-color: #00af00\">0</span> │ -                 │\n",
              "│ (<span style=\"color: #0087ff; text-decoration-color: #0087ff\">InputLayer</span>)        │                   │            │                   │\n",
              "├─────────────────────┼───────────────────┼────────────┼───────────────────┤\n",
              "│ w2v_input           │ (<span style=\"color: #00d7ff; text-decoration-color: #00d7ff\">None</span>, <span style=\"color: #00af00; text-decoration-color: #00af00\">100</span>)       │          <span style=\"color: #00af00; text-decoration-color: #00af00\">0</span> │ -                 │\n",
              "│ (<span style=\"color: #0087ff; text-decoration-color: #0087ff\">InputLayer</span>)        │                   │            │                   │\n",
              "├─────────────────────┼───────────────────┼────────────┼───────────────────┤\n",
              "│ dense_4 (<span style=\"color: #0087ff; text-decoration-color: #0087ff\">Dense</span>)     │ (<span style=\"color: #00d7ff; text-decoration-color: #00d7ff\">None</span>, <span style=\"color: #00af00; text-decoration-color: #00af00\">128</span>)       │    <span style=\"color: #00af00; text-decoration-color: #00af00\">640,128</span> │ tfidf_input[<span style=\"color: #00af00; text-decoration-color: #00af00\">0</span>][<span style=\"color: #00af00; text-decoration-color: #00af00\">0</span>] │\n",
              "├─────────────────────┼───────────────────┼────────────┼───────────────────┤\n",
              "│ dense_5 (<span style=\"color: #0087ff; text-decoration-color: #0087ff\">Dense</span>)     │ (<span style=\"color: #00d7ff; text-decoration-color: #00d7ff\">None</span>, <span style=\"color: #00af00; text-decoration-color: #00af00\">128</span>)       │     <span style=\"color: #00af00; text-decoration-color: #00af00\">12,928</span> │ w2v_input[<span style=\"color: #00af00; text-decoration-color: #00af00\">0</span>][<span style=\"color: #00af00; text-decoration-color: #00af00\">0</span>]   │\n",
              "├─────────────────────┼───────────────────┼────────────┼───────────────────┤\n",
              "│ concatenate_1       │ (<span style=\"color: #00d7ff; text-decoration-color: #00d7ff\">None</span>, <span style=\"color: #00af00; text-decoration-color: #00af00\">256</span>)       │          <span style=\"color: #00af00; text-decoration-color: #00af00\">0</span> │ dense_4[<span style=\"color: #00af00; text-decoration-color: #00af00\">0</span>][<span style=\"color: #00af00; text-decoration-color: #00af00\">0</span>],    │\n",
              "│ (<span style=\"color: #0087ff; text-decoration-color: #0087ff\">Concatenate</span>)       │                   │            │ dense_5[<span style=\"color: #00af00; text-decoration-color: #00af00\">0</span>][<span style=\"color: #00af00; text-decoration-color: #00af00\">0</span>]     │\n",
              "├─────────────────────┼───────────────────┼────────────┼───────────────────┤\n",
              "│ dense_6 (<span style=\"color: #0087ff; text-decoration-color: #0087ff\">Dense</span>)     │ (<span style=\"color: #00d7ff; text-decoration-color: #00d7ff\">None</span>, <span style=\"color: #00af00; text-decoration-color: #00af00\">64</span>)        │     <span style=\"color: #00af00; text-decoration-color: #00af00\">16,448</span> │ concatenate_1[<span style=\"color: #00af00; text-decoration-color: #00af00\">0</span>]… │\n",
              "├─────────────────────┼───────────────────┼────────────┼───────────────────┤\n",
              "│ dense_7 (<span style=\"color: #0087ff; text-decoration-color: #0087ff\">Dense</span>)     │ (<span style=\"color: #00d7ff; text-decoration-color: #00d7ff\">None</span>, <span style=\"color: #00af00; text-decoration-color: #00af00\">1</span>)         │         <span style=\"color: #00af00; text-decoration-color: #00af00\">65</span> │ dense_6[<span style=\"color: #00af00; text-decoration-color: #00af00\">0</span>][<span style=\"color: #00af00; text-decoration-color: #00af00\">0</span>]     │\n",
              "└─────────────────────┴───────────────────┴────────────┴───────────────────┘\n",
              "</pre>\n"
            ]
          },
          "metadata": {}
        },
        {
          "output_type": "display_data",
          "data": {
            "text/plain": [
              "\u001b[1m Total params: \u001b[0m\u001b[38;5;34m669,569\u001b[0m (2.55 MB)\n"
            ],
            "text/html": [
              "<pre style=\"white-space:pre;overflow-x:auto;line-height:normal;font-family:Menlo,'DejaVu Sans Mono',consolas,'Courier New',monospace\"><span style=\"font-weight: bold\"> Total params: </span><span style=\"color: #00af00; text-decoration-color: #00af00\">669,569</span> (2.55 MB)\n",
              "</pre>\n"
            ]
          },
          "metadata": {}
        },
        {
          "output_type": "display_data",
          "data": {
            "text/plain": [
              "\u001b[1m Trainable params: \u001b[0m\u001b[38;5;34m669,569\u001b[0m (2.55 MB)\n"
            ],
            "text/html": [
              "<pre style=\"white-space:pre;overflow-x:auto;line-height:normal;font-family:Menlo,'DejaVu Sans Mono',consolas,'Courier New',monospace\"><span style=\"font-weight: bold\"> Trainable params: </span><span style=\"color: #00af00; text-decoration-color: #00af00\">669,569</span> (2.55 MB)\n",
              "</pre>\n"
            ]
          },
          "metadata": {}
        },
        {
          "output_type": "display_data",
          "data": {
            "text/plain": [
              "\u001b[1m Non-trainable params: \u001b[0m\u001b[38;5;34m0\u001b[0m (0.00 B)\n"
            ],
            "text/html": [
              "<pre style=\"white-space:pre;overflow-x:auto;line-height:normal;font-family:Menlo,'DejaVu Sans Mono',consolas,'Courier New',monospace\"><span style=\"font-weight: bold\"> Non-trainable params: </span><span style=\"color: #00af00; text-decoration-color: #00af00\">0</span> (0.00 B)\n",
              "</pre>\n"
            ]
          },
          "metadata": {}
        }
      ]
    },
    {
      "cell_type": "code",
      "source": [
        "history = model.fit([X_train_tfidf.toarray(), X_train_w2v], y_train_dl,\n",
        "                    validation_split=0.2, epochs=3, batch_size=64)\n",
        "\n",
        "results = model.evaluate([X_test_tfidf.toarray(), X_test_w2v], y_test_dl)\n",
        "print(\"Test Loss, Test Accuracy:\", results)"
      ],
      "metadata": {
        "colab": {
          "base_uri": "https://localhost:8080/"
        },
        "id": "ro48JbXEItBd",
        "outputId": "63432e78-1343-457b-fd86-229580cf4f2e"
      },
      "execution_count": 25,
      "outputs": [
        {
          "output_type": "stream",
          "name": "stdout",
          "text": [
            "Epoch 1/3\n",
            "\u001b[1m1093/1093\u001b[0m \u001b[32m━━━━━━━━━━━━━━━━━━━━\u001b[0m\u001b[37m\u001b[0m \u001b[1m19s\u001b[0m 16ms/step - accuracy: 0.8469 - loss: 0.4051 - val_accuracy: 0.8557 - val_loss: 0.3751\n",
            "Epoch 2/3\n",
            "\u001b[1m1093/1093\u001b[0m \u001b[32m━━━━━━━━━━━━━━━━━━━━\u001b[0m\u001b[37m\u001b[0m \u001b[1m20s\u001b[0m 16ms/step - accuracy: 0.8565 - loss: 0.3571 - val_accuracy: 0.8553 - val_loss: 0.3754\n",
            "Epoch 3/3\n",
            "\u001b[1m1093/1093\u001b[0m \u001b[32m━━━━━━━━━━━━━━━━━━━━\u001b[0m\u001b[37m\u001b[0m \u001b[1m19s\u001b[0m 15ms/step - accuracy: 0.8717 - loss: 0.3259 - val_accuracy: 0.8479 - val_loss: 0.3984\n",
            "\u001b[1m683/683\u001b[0m \u001b[32m━━━━━━━━━━━━━━━━━━━━\u001b[0m\u001b[37m\u001b[0m \u001b[1m2s\u001b[0m 3ms/step - accuracy: 0.8444 - loss: 0.4039\n",
            "Test Loss, Test Accuracy: [0.4061063230037689, 0.8421968221664429]\n"
          ]
        }
      ]
    },
    {
      "cell_type": "markdown",
      "source": [
        "## 6. Model Comparison & Analysis"
      ],
      "metadata": {
        "id": "52imIPx6I3Qe"
      }
    },
    {
      "cell_type": "code",
      "metadata": {
        "colab": {
          "base_uri": "https://localhost:8080/"
        },
        "id": "9225dfeb",
        "outputId": "b73f7ec2-05bc-47ec-e2ff-16dba817c142"
      },
      "source": [
        "!pip install gensim"
      ],
      "execution_count": 26,
      "outputs": [
        {
          "output_type": "stream",
          "name": "stdout",
          "text": [
            "Requirement already satisfied: gensim in /usr/local/lib/python3.12/dist-packages (4.3.3)\n",
            "Requirement already satisfied: numpy<2.0,>=1.18.5 in /usr/local/lib/python3.12/dist-packages (from gensim) (1.26.4)\n",
            "Requirement already satisfied: scipy<1.14.0,>=1.7.0 in /usr/local/lib/python3.12/dist-packages (from gensim) (1.13.1)\n",
            "Requirement already satisfied: smart-open>=1.8.1 in /usr/local/lib/python3.12/dist-packages (from gensim) (7.3.0.post1)\n",
            "Requirement already satisfied: wrapt in /usr/local/lib/python3.12/dist-packages (from smart-open>=1.8.1->gensim) (1.17.3)\n"
          ]
        }
      ]
    },
    {
      "cell_type": "code",
      "source": [
        "print(\"Classical Logistic Regression Accuracy:\", clf.score(X_test, y_test))\n",
        "print(\"Deep Learning Accuracy:\", results[1])"
      ],
      "metadata": {
        "colab": {
          "base_uri": "https://localhost:8080/"
        },
        "id": "MPRjoa2EI-Q1",
        "outputId": "421f80ba-0818-48d5-f848-3d4df52f1d20"
      },
      "execution_count": 27,
      "outputs": [
        {
          "output_type": "stream",
          "name": "stdout",
          "text": [
            "Classical Logistic Regression Accuracy: 0.8505263157894737\n",
            "Deep Learning Accuracy: 0.8421968221664429\n"
          ]
        }
      ]
    }
  ]
}